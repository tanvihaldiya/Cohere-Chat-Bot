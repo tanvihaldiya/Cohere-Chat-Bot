{
  "cells": [
    {
      "cell_type": "markdown",
      "metadata": {
        "id": "OnKdawu1MnkN"
      },
      "source": [
        "# Building a Chatbot"
      ]
    },
    {
      "cell_type": "markdown",
      "metadata": {
        "id": "CnKxQnzDMczK"
      },
      "source": [
        "In this notebook, I followed along with Cohere's tutorial to build a chatbot using Cohere's Chat endpoint. In this notebook, I built a simple chatbot that can respond to user messages and maintain the context of the conversation."
      ]
    },
    {
      "cell_type": "markdown",
      "metadata": {
        "id": "-knWR_W73s78"
      },
      "source": [
        "## Overview"
      ]
    },
    {
      "cell_type": "markdown",
      "metadata": {
        "id": "REVUFI3y3s78"
      },
      "source": [
        "We'll do the following steps:\n",
        "- **Step 1: Quickstart** - Learn the quickest and easiest way to call the Chat endpoint.\n",
        "- **Step 2: Adding a preamble** - Steer a chatbot's response toward certain styles, personas, or other characteristics.\n",
        "- **Step 3: Streaming the response** - Display a chatbot's response incrementally as it is generated, as opposed to waiting for the entire response to be completed.\n",
        "- **Step 4: Building the Chat History** - Explore two different options for getting the chatbot to maintain the context of the conversation."
      ]
    },
    {
      "cell_type": "markdown",
      "metadata": {
        "id": "BqZuDdMY3s78"
      },
      "source": [
        "## Setup\n",
        "\n",
        "We'll start by installing the tools we'll need and then importing them."
      ]
    },
    {
      "cell_type": "code",
      "execution_count": 1,
      "metadata": {
        "id": "9SiIscJN3s78",
        "outputId": "e04490a7-fd2d-4519-b2f7-4c4fe1932369",
        "colab": {
          "base_uri": "https://localhost:8080/"
        }
      },
      "outputs": [
        {
          "output_type": "stream",
          "name": "stdout",
          "text": [
            "\u001b[2K     \u001b[90m━━━━━━━━━━━━━━━━━━━━━━━━━━━━━━━━━━━━━━━━\u001b[0m \u001b[32m173.8/173.8 kB\u001b[0m \u001b[31m2.6 MB/s\u001b[0m eta \u001b[36m0:00:00\u001b[0m\n",
            "\u001b[2K     \u001b[90m━━━━━━━━━━━━━━━━━━━━━━━━━━━━━━━━━━━━━━━━\u001b[0m \u001b[32m139.2/139.2 kB\u001b[0m \u001b[31m3.4 MB/s\u001b[0m eta \u001b[36m0:00:00\u001b[0m\n",
            "\u001b[2K     \u001b[90m━━━━━━━━━━━━━━━━━━━━━━━━━━━━━━━━━━━━━━━━\u001b[0m \u001b[32m3.1/3.1 MB\u001b[0m \u001b[31m12.8 MB/s\u001b[0m eta \u001b[36m0:00:00\u001b[0m\n",
            "\u001b[2K     \u001b[90m━━━━━━━━━━━━━━━━━━━━━━━━━━━━━━━━━━━━━━━━\u001b[0m \u001b[32m75.6/75.6 kB\u001b[0m \u001b[31m2.7 MB/s\u001b[0m eta \u001b[36m0:00:00\u001b[0m\n",
            "\u001b[2K     \u001b[90m━━━━━━━━━━━━━━━━━━━━━━━━━━━━━━━━━━━━━━━━\u001b[0m \u001b[32m12.4/12.4 MB\u001b[0m \u001b[31m34.4 MB/s\u001b[0m eta \u001b[36m0:00:00\u001b[0m\n",
            "\u001b[2K     \u001b[90m━━━━━━━━━━━━━━━━━━━━━━━━━━━━━━━━━━━━━━━━\u001b[0m \u001b[32m82.7/82.7 kB\u001b[0m \u001b[31m5.4 MB/s\u001b[0m eta \u001b[36m0:00:00\u001b[0m\n",
            "\u001b[2K     \u001b[90m━━━━━━━━━━━━━━━━━━━━━━━━━━━━━━━━━━━━━━━━\u001b[0m \u001b[32m77.9/77.9 kB\u001b[0m \u001b[31m7.2 MB/s\u001b[0m eta \u001b[36m0:00:00\u001b[0m\n",
            "\u001b[2K     \u001b[90m━━━━━━━━━━━━━━━━━━━━━━━━━━━━━━━━━━━━━━━━\u001b[0m \u001b[32m58.3/58.3 kB\u001b[0m \u001b[31m6.1 MB/s\u001b[0m eta \u001b[36m0:00:00\u001b[0m\n",
            "\u001b[?25h"
          ]
        }
      ],
      "source": [
        "! pip install cohere -q"
      ]
    },
    {
      "cell_type": "code",
      "execution_count": 2,
      "metadata": {
        "id": "2YNke0TP3s79"
      },
      "outputs": [],
      "source": [
        "#@title Enable text wrapping in Google Colab\n",
        "\n",
        "from IPython.display import HTML, display\n",
        "\n",
        "def set_css():\n",
        "  display(HTML('''\n",
        "  <style>\n",
        "    pre {\n",
        "        white-space: pre-wrap;\n",
        "    }\n",
        "  </style>\n",
        "  '''))\n",
        "get_ipython().events.register('pre_run_cell', set_css)"
      ]
    },
    {
      "cell_type": "code",
      "execution_count": 3,
      "metadata": {
        "id": "cDwP5nHwO0Ap",
        "outputId": "ffbbd84e-0db8-4033-c51d-729c6399f2ff",
        "colab": {
          "base_uri": "https://localhost:8080/",
          "height": 17
        }
      },
      "outputs": [
        {
          "output_type": "display_data",
          "data": {
            "text/plain": [
              "<IPython.core.display.HTML object>"
            ],
            "text/html": [
              "\n",
              "  <style>\n",
              "    pre {\n",
              "        white-space: pre-wrap;\n",
              "    }\n",
              "  </style>\n",
              "  "
            ]
          },
          "metadata": {}
        }
      ],
      "source": [
        "import uuid\n",
        "import cohere\n",
        "import json\n",
        "from cohere import ChatMessage"
      ]
    },
    {
      "cell_type": "markdown",
      "metadata": {
        "id": "xqMQ5w8U3s79"
      },
      "source": [
        "Fill in your Cohere API key in the next cell. To do this, begin by [signing up to Cohere](https://os.cohere.ai/) (for free!) if you haven't yet. Then get your API key [here](https://dashboard.cohere.com/api-keys)."
      ]
    },
    {
      "cell_type": "code",
      "execution_count": 4,
      "metadata": {
        "id": "p-gamcbC3s7-",
        "outputId": "fe48c226-9c4e-4b5f-dfdf-dffdb4885a3d",
        "colab": {
          "base_uri": "https://localhost:8080/",
          "height": 17
        }
      },
      "outputs": [
        {
          "output_type": "display_data",
          "data": {
            "text/plain": [
              "<IPython.core.display.HTML object>"
            ],
            "text/html": [
              "\n",
              "  <style>\n",
              "    pre {\n",
              "        white-space: pre-wrap;\n",
              "    }\n",
              "  </style>\n",
              "  "
            ]
          },
          "metadata": {}
        }
      ],
      "source": [
        "# Paste your API key here. Remember to not share publicly\n",
        "co = cohere.Client(\"9CxqpeaqJSV7nDGiJKCn5A5F8R9Of66492qh5QXL\")"
      ]
    },
    {
      "cell_type": "markdown",
      "metadata": {
        "id": "P6YrR6WeO_O-"
      },
      "source": [
        "## Step 1: Quickstart\n",
        "\n",
        "The `message` parameter is the only required parameter for the Chat endpoint.\n",
        "\n",
        "In our case, we also use the `model` parameter to specify the underlying chat model we want to use. For this, we pick Command R+, Cohere's newest large language model.\n",
        "\n",
        "We call the endpoint with `co.chat()`, and get the main content of the response from the `text` value."
      ]
    },
    {
      "cell_type": "code",
      "execution_count": 5,
      "metadata": {
        "colab": {
          "base_uri": "https://localhost:8080/",
          "height": 35
        },
        "id": "Y0oUFu9hO23P",
        "outputId": "14b98c98-eba0-43ec-cafd-ad996e9a5824"
      },
      "outputs": [
        {
          "output_type": "display_data",
          "data": {
            "text/plain": [
              "<IPython.core.display.HTML object>"
            ],
            "text/html": [
              "\n",
              "  <style>\n",
              "    pre {\n",
              "        white-space: pre-wrap;\n",
              "    }\n",
              "  </style>\n",
              "  "
            ]
          },
          "metadata": {}
        },
        {
          "output_type": "stream",
          "name": "stdout",
          "text": [
            "Hello! How can I help you today?\n"
          ]
        }
      ],
      "source": [
        "response = co.chat(message=\"Hello\", model=\"command-r-plus\")\n",
        "print(response.text)"
      ]
    },
    {
      "cell_type": "markdown",
      "metadata": {
        "id": "TogMI9nkPCer"
      },
      "source": [
        "## Step 2: Adding a preamble\n",
        "\n",
        "A conversation starts with a system message, or a preamble, to help steer a chatbot’s response toward certain characteristics. In the quickstart example, we didn’t have to define a preamble because a default one was used.\n",
        "\n",
        "We can define our own preamble with the `preamble` parameter."
      ]
    },
    {
      "cell_type": "code",
      "execution_count": 6,
      "metadata": {
        "colab": {
          "base_uri": "https://localhost:8080/",
          "height": 35
        },
        "id": "h_a4AhLbO-KF",
        "outputId": "8d259746-2760-4b5e-cfa6-d67f850e085f"
      },
      "outputs": [
        {
          "output_type": "display_data",
          "data": {
            "text/plain": [
              "<IPython.core.display.HTML object>"
            ],
            "text/html": [
              "\n",
              "  <style>\n",
              "    pre {\n",
              "        white-space: pre-wrap;\n",
              "    }\n",
              "  </style>\n",
              "  "
            ]
          },
          "metadata": {}
        },
        {
          "output_type": "stream",
          "name": "stdout",
          "text": [
            "I am an AI medical assistant. How can I help you today?\n"
          ]
        }
      ],
      "source": [
        "response = co.chat(message=\"Hello\",\n",
        "                   model=\"command-r-plus\",\n",
        "                   preamble=\"You are an expert medical doctor. Don't use any greetings.\")\n",
        "print(response.text)"
      ]
    },
    {
      "cell_type": "markdown",
      "metadata": {
        "id": "vGZdMxt0PHhI"
      },
      "source": [
        "## Step 3: Streaming the response\n",
        "\n",
        "Our examples so far generate responses in a non-streamed manner. This means that the endpoint would return a response object only after the model has generated the text in full.\n",
        "\n",
        "The Chat endpoint also supports streamed responses, where you can display the text incrementally without having to wait for the full completion. To activate it, use `co.chat_stream()` instead of `co.chat()`.\n",
        "\n",
        "In streaming mode, the endpoint will generate a series of objects. To get the text content, we take objects whose `event_type` is `text-generation`."
      ]
    },
    {
      "cell_type": "code",
      "execution_count": 7,
      "metadata": {
        "colab": {
          "base_uri": "https://localhost:8080/",
          "height": 446
        },
        "id": "UGgXs5AtPEme",
        "outputId": "33deb7b6-876c-47b1-e934-61fa9b7b1746"
      },
      "outputs": [
        {
          "output_type": "display_data",
          "data": {
            "text/plain": [
              "<IPython.core.display.HTML object>"
            ],
            "text/html": [
              "\n",
              "  <style>\n",
              "    pre {\n",
              "        white-space: pre-wrap;\n",
              "    }\n",
              "  </style>\n",
              "  "
            ]
          },
          "metadata": {}
        },
        {
          "output_type": "stream",
          "name": "stdout",
          "text": [
            "Sure! Here is some information about how to cure a sore throat:\n",
            "\n",
            "- Rest your voice: Speaking or singing can irritate an already sore throat, so it’s important to rest your voice as much as possible until your throat feels better.\n",
            "\n",
            "- Drink plenty of fluids: Staying hydrated is important when you’re sick, especially if you have a fever. Drink water, juice, or clear broth to help thin out mucus and keep your throat moist. Avoid caffeine and alcohol, as these can dehydrate you further.\n",
            "\n",
            "- Gargle with warm salt water: Dissolve 1/2 teaspoon of table salt in a glass of warm water and gargle with it several times a day. This can help reduce swelling and soothe irritation in the throat.\n",
            "\n",
            "- Use a humidifier: Dry air can irritate a sore throat, so using a humidifier can help add moisture to the air and provide some relief.\n",
            "\n",
            "- Consider over-the-counter medications: There are a number of medications that can help soothe a sore throat, including:\n",
            "\n",
            "    - Pain relievers: Nonsteroidal anti-inflammatory drugs (NSAIDs) such as ibuprofen (Advil, Motrin) or naproxen (Aleve) can help reduce inflammation and relieve pain.\n",
            "    - Throat lozenges: Sucking on throat lozenges can help soothe a sore throat and provide temporary relief. Look for lozenges that contain menthol, benzocaine, or pectin.\n",
            "    - Cough syrups: Cough syrups that contain ingredients like dextromethorphan or guaifenesin can help coat and soothe the throat, reducing the urge to cough.\n",
            "\n",
            "- Avoid irritants: Stay away from irritants that can make your throat worse, such as smoke, pollution, and chemical fumes.\n",
            "\n",
            "- See a doctor: If your sore throat is severe, lasts longer than a week, or is accompanied by a fever, headache, rash, or nausea, it’s important to see a doctor. They can examine your throat and determine if there is an underlying cause that requires treatment."
          ]
        }
      ],
      "source": [
        "stream = co.chat_stream(message=\"Hello. I'd like to learn about how to cure my sore throat\",\n",
        "                        model=\"command-r-plus\",\n",
        "                        preamble=\"You are an expert medical doctor.\")\n",
        "\n",
        "for event in stream:\n",
        "    if event.event_type == \"text-generation\":\n",
        "        print(event.text, end='')"
      ]
    },
    {
      "cell_type": "markdown",
      "metadata": {
        "id": "9Jd3fjC5PPI5"
      },
      "source": [
        "## Step 4: Building the Chat history"
      ]
    },
    {
      "cell_type": "markdown",
      "metadata": {
        "id": "NPi3_sLX3s7-"
      },
      "source": [
        "At the core of a conversation is a multi-turn dialog between the user and the chatbot. This requires the chatbot to have a “memory” of all the previous turns to maintain the state of the conversation."
      ]
    },
    {
      "cell_type": "markdown",
      "metadata": {
        "id": "PVLLrXgZPTCN"
      },
      "source": [
        "### Option 1: Using the conversation history persistence feature\n",
        "\n",
        "The Chat endpoint supports state management by persisting the conversation history. As a conversation progresses, the endpoint continuously updates the conversation history. This means developers don’t have to deal with the complexity and inconvenience of managing conversation history in their application.\n",
        "\n",
        "To use this feature, use the `conversation_id` parameter, which is a unique string you assign to a conversation. We'll use the `uuid` library to do this.\n",
        "\n",
        "Putting everything together, let’s now build a simple chat interface that takes in a user message, generates the chatbot response, automatically updates the conversation history, and repeats these steps until the user quits the conversation.\n",
        "\n",
        "As described before, in streaming mode, the Chat endpoint generates a series of objects. To get the conversation history, we take the object with `event_type` of `\"stream-end\"` and save it as a new variable `chat_history`."
      ]
    },
    {
      "cell_type": "code",
      "execution_count": 9,
      "metadata": {
        "colab": {
          "base_uri": "https://localhost:8080/",
          "height": 1000
        },
        "id": "3J1j2km_PEhy",
        "outputId": "bd9044fe-bf70-4f8f-9a1d-e08f2decb04f"
      },
      "outputs": [
        {
          "output_type": "display_data",
          "data": {
            "text/plain": [
              "<IPython.core.display.HTML object>"
            ],
            "text/html": [
              "\n",
              "  <style>\n",
              "    pre {\n",
              "        white-space: pre-wrap;\n",
              "    }\n",
              "  </style>\n",
              "  "
            ]
          },
          "metadata": {}
        },
        {
          "output_type": "stream",
          "name": "stdout",
          "text": [
            "Starting the chat. Type \"quit\" to end.\n",
            "\n",
            "User: I sprained my ankle. What should I do?\n",
            "Chatbot: If you have sprained your ankle, there are several things you can do to facilitate recovery and prevent further injury:\n",
            "\n",
            "1. Rest: Take weight off the injured ankle and rest as much as possible. Avoid activities that cause pain or discomfort. Use crutches if necessary to keep weight off the ankle.\n",
            "\n",
            "2. Ice: Apply ice or a cold pack to the ankle as soon as possible after the injury. This will help reduce swelling and pain. Apply ice for 20 minutes at a time, with at least 20 minutes in between icing sessions. Never apply ice directly to the skin, always wrap the ice pack in a thin towel.\n",
            "\n",
            "3. Compression: Use a compression bandage to reduce swelling and provide support. Start at the farthest point on the foot and wrap the bandage snugly around the ankle and foot, moving upwards. Be careful not to wrap too tightly, as this can restrict blood flow.\n",
            "\n",
            "4. Elevation: Keep your ankle elevated above the level of your heart as much as possible, especially during the first 48 hours after the injury. This will help reduce swelling and pain. Use pillows or blankets to prop up your ankle when sitting or lying down.\n",
            "\n",
            "5. Over-the-counter pain relievers: Take non-steroidal anti-inflammatory drugs (NSAIDs), such as ibuprofen (Advil, Motrin) or naproxen (Aleve), to help reduce pain and swelling. Make sure to follow the dosage instructions on the package.\n",
            "\n",
            "6. Protect the ankle: Wear a brace or ankle support, especially when returning to activity, to prevent re-injury.\n",
            "\n",
            "7. Gradual return to activity: Once the pain and swelling have subsided, you can gradually resume your normal activities. Start with gentle range-of-motion exercises, and slowly increase weight-bearing activities as tolerated.\n",
            "\n",
            "8. Seek medical attention: If the pain is severe, or if you are unable to bear weight on the ankle, seek medical attention. Similarly, if there is significant swelling, bruising, or deformity, or if your symptoms are not improving with home treatment, see a doctor. They may order X-rays or other imaging tests to assess the severity of the sprain and rule out other injuries.\n",
            "\n",
            "It is important to allow enough time for your ankle to heal completely before returning to full activity. Rushing your recovery can lead to further injury and chronic ankle instability.\n",
            "----------------------------------------------------------------------------------------------------\n",
            "\n",
            "User: How long do I have to wait before I start dancing? \n",
            "Chatbot: The recovery time from a sprained ankle can vary depending on the severity of the sprain. On average, a mild ankle sprain may take around 2-4 weeks to heal, while a more severe sprain can take anywhere from 6-12 weeks or even longer in some cases.\n",
            "\n",
            "Before returning to dancing or any other physical activity, it is important to ensure that your ankle has healed sufficiently to avoid further injury. Here are a few signs that may indicate that you are ready to start dancing again:\n",
            "\n",
            "1. Pain-free range of motion: You should have full, pain-free range of motion in your ankle. This includes the ability to point and flex your foot, rotate your ankle in and out, and move your foot and ankle through the full range of motion required for dancing.\n",
            "\n",
            "2. No swelling: The swelling in your ankle should be completely gone, and the ankle should look and feel similar in size to your uninjured ankle.\n",
            "\n",
            "3. Full weight-bearing: You should be able to bear your full weight on the injured ankle without pain or instability. This includes walking, jumping, and performing dance-specific movements.\n",
            "\n",
            "4. Strength and stability: Your ankle should have regained its strength and stability. This can be assessed through single-leg balance exercises and by performing dance-specific movements that require stability, such as turning, jumping, or landing from a leap.\n",
            "\n",
            "5. No pain: It is important that you are free from pain during daily activities and during dance-specific movements. While you may experience some mild discomfort or stiffness, sharp or persistent pain may indicate that the ankle is not yet ready for the demands of dancing.\n",
            "\n",
            "It is always a good idea to consult with your doctor or a sports medicine specialist to assess your recovery and provide guidance on when it is safe to return to dancing. They may also recommend working with a physical therapist, who can guide you through exercises to improve strength, balance, and proprioception, reducing your risk of re-injury.\n",
            "\n",
            "Remember, it is important to listen to your body and progress gradually. Start with simpler movements and lower-impact activities, gradually increasing the intensity and complexity of your dance routines as your ankle adjusts.\n",
            "----------------------------------------------------------------------------------------------------\n",
            "\n",
            "User: quit\n",
            "Ending chat.\n"
          ]
        }
      ],
      "source": [
        "# Create a conversation ID\n",
        "conversation_id = str(uuid.uuid4())\n",
        "\n",
        "# Define the preamble\n",
        "preamble = \"You are an expert medical doctor\"\n",
        "\n",
        "print('Starting the chat. Type \"quit\" to end.\\n')\n",
        "\n",
        "while True:\n",
        "\n",
        "    # User message\n",
        "    message = input(\"User: \")\n",
        "\n",
        "    # Typing \"quit\" ends the conversation\n",
        "    if message.lower() == 'quit':\n",
        "        print(\"Ending chat.\")\n",
        "        break\n",
        "\n",
        "    # Chatbot response\n",
        "    stream = co.chat_stream(message=message,\n",
        "                            model=\"command-r-plus\",\n",
        "                            preamble=preamble,\n",
        "                            conversation_id=conversation_id)\n",
        "\n",
        "    print(\"Chatbot: \", end='')\n",
        "\n",
        "    for event in stream:\n",
        "        if event.event_type == \"text-generation\":\n",
        "            print(event.text, end='')\n",
        "        if event.event_type == \"stream-end\":\n",
        "            chat_history = event.response.chat_history\n",
        "\n",
        "    print(f\"\\n{'-'*100}\\n\")"
      ]
    },
    {
      "cell_type": "markdown",
      "metadata": {
        "id": "ZRKwGaVV3s7-"
      },
      "source": [
        "Next, we print the full conversation history."
      ]
    },
    {
      "cell_type": "code",
      "execution_count": 10,
      "metadata": {
        "id": "glM97vvT3s7-",
        "outputId": "edaeada1-fe9e-4848-d001-2e6846b3b0db",
        "colab": {
          "base_uri": "https://localhost:8080/",
          "height": 589
        }
      },
      "outputs": [
        {
          "output_type": "display_data",
          "data": {
            "text/plain": [
              "<IPython.core.display.HTML object>"
            ],
            "text/html": [
              "\n",
              "  <style>\n",
              "    pre {\n",
              "        white-space: pre-wrap;\n",
              "    }\n",
              "  </style>\n",
              "  "
            ]
          },
          "metadata": {}
        },
        {
          "output_type": "stream",
          "name": "stdout",
          "text": [
            "message='I sprained my ankle. What should I do?' tool_calls=None role='USER' response_id='266f1988-e250-46fc-83e9-dcf5cd86ac23' generation_id='ce41c0df-603d-4bb0-a303-01ff31c541f0'\n",
            "message='If you have sprained your ankle, there are several things you can do to facilitate recovery and prevent further injury:\\n\\n1. Rest: Take weight off the injured ankle and rest as much as possible. Avoid activities that cause pain or discomfort. Use crutches if necessary to keep weight off the ankle.\\n\\n2. Ice: Apply ice or a cold pack to the ankle as soon as possible after the injury. This will help reduce swelling and pain. Apply ice for 20 minutes at a time, with at least 20 minutes in between icing sessions. Never apply ice directly to the skin, always wrap the ice pack in a thin towel.\\n\\n3. Compression: Use a compression bandage to reduce swelling and provide support. Start at the farthest point on the foot and wrap the bandage snugly around the ankle and foot, moving upwards. Be careful not to wrap too tightly, as this can restrict blood flow.\\n\\n4. Elevation: Keep your ankle elevated above the level of your heart as much as possible, especially during the first 48 hours after the injury. This will help reduce swelling and pain. Use pillows or blankets to prop up your ankle when sitting or lying down.\\n\\n5. Over-the-counter pain relievers: Take non-steroidal anti-inflammatory drugs (NSAIDs), such as ibuprofen (Advil, Motrin) or naproxen (Aleve), to help reduce pain and swelling. Make sure to follow the dosage instructions on the package.\\n\\n6. Protect the ankle: Wear a brace or ankle support, especially when returning to activity, to prevent re-injury.\\n\\n7. Gradual return to activity: Once the pain and swelling have subsided, you can gradually resume your normal activities. Start with gentle range-of-motion exercises, and slowly increase weight-bearing activities as tolerated.\\n\\n8. Seek medical attention: If the pain is severe, or if you are unable to bear weight on the ankle, seek medical attention. Similarly, if there is significant swelling, bruising, or deformity, or if your symptoms are not improving with home treatment, see a doctor. They may order X-rays or other imaging tests to assess the severity of the sprain and rule out other injuries.\\n\\nIt is important to allow enough time for your ankle to heal completely before returning to full activity. Rushing your recovery can lead to further injury and chronic ankle instability.' tool_calls=None role='CHATBOT' response_id='266f1988-e250-46fc-83e9-dcf5cd86ac23' generation_id='a91c31cf-edef-48b7-95e2-d098738824e6'\n",
            "message='How long do I have to wait before I start dancing? ' tool_calls=None role='USER'\n",
            "message='The recovery time from a sprained ankle can vary depending on the severity of the sprain. On average, a mild ankle sprain may take around 2-4 weeks to heal, while a more severe sprain can take anywhere from 6-12 weeks or even longer in some cases.\\n\\nBefore returning to dancing or any other physical activity, it is important to ensure that your ankle has healed sufficiently to avoid further injury. Here are a few signs that may indicate that you are ready to start dancing again:\\n\\n1. Pain-free range of motion: You should have full, pain-free range of motion in your ankle. This includes the ability to point and flex your foot, rotate your ankle in and out, and move your foot and ankle through the full range of motion required for dancing.\\n\\n2. No swelling: The swelling in your ankle should be completely gone, and the ankle should look and feel similar in size to your uninjured ankle.\\n\\n3. Full weight-bearing: You should be able to bear your full weight on the injured ankle without pain or instability. This includes walking, jumping, and performing dance-specific movements.\\n\\n4. Strength and stability: Your ankle should have regained its strength and stability. This can be assessed through single-leg balance exercises and by performing dance-specific movements that require stability, such as turning, jumping, or landing from a leap.\\n\\n5. No pain: It is important that you are free from pain during daily activities and during dance-specific movements. While you may experience some mild discomfort or stiffness, sharp or persistent pain may indicate that the ankle is not yet ready for the demands of dancing.\\n\\nIt is always a good idea to consult with your doctor or a sports medicine specialist to assess your recovery and provide guidance on when it is safe to return to dancing. They may also recommend working with a physical therapist, who can guide you through exercises to improve strength, balance, and proprioception, reducing your risk of re-injury.\\n\\nRemember, it is important to listen to your body and progress gradually. Start with simpler movements and lower-impact activities, gradually increasing the intensity and complexity of your dance routines as your ankle adjusts.' tool_calls=None role='CHATBOT'\n"
          ]
        }
      ],
      "source": [
        "for chat in chat_history:\n",
        "    print(chat)"
      ]
    },
    {
      "cell_type": "markdown",
      "metadata": {
        "id": "ymM0CkHxQvo-"
      },
      "source": [
        "### Option 2: Managing the conversation history yourself\n",
        "\n",
        "If you opt not to use the endpoint’s conversation history persistence feature, you can use the `chat_history` parameter to manage the conversation history yourself."
      ]
    },
    {
      "cell_type": "code",
      "execution_count": 11,
      "metadata": {
        "colab": {
          "base_uri": "https://localhost:8080/",
          "height": 571
        },
        "id": "LUWqpfY6PEcQ",
        "outputId": "18ae2c16-9f53-401a-c2ee-8f205e7ad85f"
      },
      "outputs": [
        {
          "output_type": "display_data",
          "data": {
            "text/plain": [
              "<IPython.core.display.HTML object>"
            ],
            "text/html": [
              "\n",
              "  <style>\n",
              "    pre {\n",
              "        white-space: pre-wrap;\n",
              "    }\n",
              "  </style>\n",
              "  "
            ]
          },
          "metadata": {}
        },
        {
          "output_type": "stream",
          "name": "stdout",
          "text": [
            "Starting the chat. Type \"quit\" to end.\n",
            "\n",
            "User: I have a really bad sore throat. I can barely talk. What should I do? \n",
            "Chatbot: I'm sorry to hear that you're dealing with a sore throat. Here are some recommendations to help you feel better:\n",
            "\n",
            "1. Rest your voice: Try to rest your voice as much as possible. Avoid talking or whispering, as this can strain your vocal cords further. Use non-verbal communication methods when necessary.\n",
            "\n",
            "2. Stay hydrated: Drink plenty of fluids, particularly warm liquids such as tea with honey, lemon water, or warm broth. This will help soothe your throat and keep your mucous membranes moist.\n",
            "\n",
            "3. Gargle with salt water: Mix 1/2 teaspoon of salt in a glass of warm water and gargle with it several times a day. This can help reduce swelling and discomfort in your throat.\n",
            "\n",
            "4. Use throat lozenges: Suck on throat lozenges or hard candies. Look for lozenges that contain menthol, which can provide a cooling sensation and help numb the throat.\n",
            "\n",
            "5. Humidify the air: Use a humidifier in your room to add moisture to the air. This can help ease throat dryness and irritation.\n",
            "\n",
            "6. Take over-the-counter medications: Consider taking over-the-counter pain relievers such as ibuprofen (Advil, Motrin) or acetaminophen (Tylenol) to help reduce inflammation and alleviate throat pain.\n",
            "\n",
            "7. Avoid irritants: Stay away from irritants such as smoke, pollution, and chemical fumes, which can further aggravate your throat.\n",
            "\n",
            "8. Seek medical attention: If your sore throat persists for more than a few days, or if you develop a fever, swollen lymph nodes, or difficulty swallowing, it's important to see a doctor. They may prescribe antibiotics or other treatments if your sore throat is caused by a bacterial infection or a more serious condition.\n",
            "\n",
            "Remember to take it easy and give your body the rest it needs to recover. I hope you feel better soon!\n",
            "\n",
            "User: quit\n",
            "Ending chat.\n"
          ]
        }
      ],
      "source": [
        "# Initialize the chat history\n",
        "chat_history = []\n",
        "\n",
        "# Define the preamble\n",
        "preamble = \"You are an expert medical doctor\"\n",
        "\n",
        "print('Starting the chat. Type \"quit\" to end.\\n')\n",
        "\n",
        "while True:\n",
        "\n",
        "    # User message\n",
        "    message = input(\"User: \")\n",
        "\n",
        "    # Typing \"quit\" ends the conversation\n",
        "    if message.lower() == 'quit':\n",
        "        print(\"Ending chat.\")\n",
        "        break\n",
        "\n",
        "    # Chatbot response\n",
        "    stream = co.chat_stream(message=message,\n",
        "                            model=\"command-r-plus\",\n",
        "                            preamble=preamble,\n",
        "                            chat_history=chat_history)\n",
        "\n",
        "    chatbot_response = \"\"\n",
        "    print(\"Chatbot: \", end='')\n",
        "\n",
        "    for event in stream:\n",
        "        if event.event_type == \"text-generation\":\n",
        "            print(event.text, end='')\n",
        "            chatbot_response += event.text\n",
        "    print(\"\\n\")\n",
        "\n",
        "    # Add to chat history\n",
        "    chat_history.extend(\n",
        "        [ChatMessage(role=\"USER\", message=message),\n",
        "         ChatMessage(role=\"CHATBOT\", message=chatbot_response)]\n",
        "    )"
      ]
    },
    {
      "cell_type": "markdown",
      "metadata": {
        "id": "qLjJjG903s7_"
      },
      "source": [
        "We confirm that `chat_history` is consistent with the conversation above."
      ]
    },
    {
      "cell_type": "code",
      "execution_count": 12,
      "metadata": {
        "colab": {
          "base_uri": "https://localhost:8080/",
          "height": 249
        },
        "id": "9ANbZw9LPEZY",
        "outputId": "d0782bf7-1750-45ab-8e86-1bde8f1d5917"
      },
      "outputs": [
        {
          "output_type": "display_data",
          "data": {
            "text/plain": [
              "<IPython.core.display.HTML object>"
            ],
            "text/html": [
              "\n",
              "  <style>\n",
              "    pre {\n",
              "        white-space: pre-wrap;\n",
              "    }\n",
              "  </style>\n",
              "  "
            ]
          },
          "metadata": {}
        },
        {
          "output_type": "stream",
          "name": "stdout",
          "text": [
            "message='I have a really bad sore throat. I can barely talk. What should I do? ' tool_calls=None role='USER'\n",
            "message=\"I'm sorry to hear that you're dealing with a sore throat. Here are some recommendations to help you feel better:\\n\\n1. Rest your voice: Try to rest your voice as much as possible. Avoid talking or whispering, as this can strain your vocal cords further. Use non-verbal communication methods when necessary.\\n\\n2. Stay hydrated: Drink plenty of fluids, particularly warm liquids such as tea with honey, lemon water, or warm broth. This will help soothe your throat and keep your mucous membranes moist.\\n\\n3. Gargle with salt water: Mix 1/2 teaspoon of salt in a glass of warm water and gargle with it several times a day. This can help reduce swelling and discomfort in your throat.\\n\\n4. Use throat lozenges: Suck on throat lozenges or hard candies. Look for lozenges that contain menthol, which can provide a cooling sensation and help numb the throat.\\n\\n5. Humidify the air: Use a humidifier in your room to add moisture to the air. This can help ease throat dryness and irritation.\\n\\n6. Take over-the-counter medications: Consider taking over-the-counter pain relievers such as ibuprofen (Advil, Motrin) or acetaminophen (Tylenol) to help reduce inflammation and alleviate throat pain.\\n\\n7. Avoid irritants: Stay away from irritants such as smoke, pollution, and chemical fumes, which can further aggravate your throat.\\n\\n8. Seek medical attention: If your sore throat persists for more than a few days, or if you develop a fever, swollen lymph nodes, or difficulty swallowing, it's important to see a doctor. They may prescribe antibiotics or other treatments if your sore throat is caused by a bacterial infection or a more serious condition.\\n\\nRemember to take it easy and give your body the rest it needs to recover. I hope you feel better soon!\" tool_calls=None role='CHATBOT'\n"
          ]
        }
      ],
      "source": [
        "for chat in chat_history:\n",
        "    print(chat)"
      ]
    },
    {
      "cell_type": "markdown",
      "metadata": {
        "id": "sDk0gWW03s7_"
      },
      "source": [
        "And with that, we have built a simple chatbot that can respond to user messages and maintain the context of the conversation."
      ]
    }
  ],
  "metadata": {
    "colab": {
      "provenance": []
    },
    "kernelspec": {
      "display_name": "Python 3 (ipykernel)",
      "language": "python",
      "name": "python3"
    },
    "language_info": {
      "codemirror_mode": {
        "name": "ipython",
        "version": 3
      },
      "file_extension": ".py",
      "mimetype": "text/x-python",
      "name": "python",
      "nbconvert_exporter": "python",
      "pygments_lexer": "ipython3",
      "version": "3.11.5"
    }
  },
  "nbformat": 4,
  "nbformat_minor": 0
}